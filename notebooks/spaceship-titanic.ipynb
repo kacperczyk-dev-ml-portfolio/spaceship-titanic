{
 "cells": [
  {
   "cell_type": "markdown",
   "id": "29d2bdb4-6622-42de-9d42-d2cab923cd3d",
   "metadata": {
    "editable": true,
    "slideshow": {
     "slide_type": ""
    },
    "tags": []
   },
   "source": [
    "# Imports"
   ]
  },
  {
   "cell_type": "code",
   "execution_count": 1,
   "id": "5b3fa9cf-ac5d-45e4-b854-a7ca4fee333d",
   "metadata": {},
   "outputs": [
    {
     "name": "stderr",
     "output_type": "stream",
     "text": [
      "2023-07-21 10:26:05.526577: I tensorflow/core/platform/cpu_feature_guard.cc:182] This TensorFlow binary is optimized to use available CPU instructions in performance-critical operations.\n",
      "To enable the following instructions: AVX2 FMA, in other operations, rebuild TensorFlow with the appropriate compiler flags.\n"
     ]
    }
   ],
   "source": [
    "import pandas as pd\n",
    "import numpy as np\n",
    "from sklearn.model_selection import train_test_split\n",
    "import tensorflow as tf\n",
    "from tensorflow.keras.models import Sequential\n",
    "from tensorflow.keras.layers import Dense\n",
    "from tensorflow.keras.regularizers import L2\n",
    "from tensorflow.keras.losses import BinaryCrossentropy\n",
    "from keras.callbacks import Callback"
   ]
  },
  {
   "cell_type": "markdown",
   "id": "e5e28b0e-20ea-4d5a-a049-1bbe145f89ee",
   "metadata": {},
   "source": [
    "# Load data"
   ]
  },
  {
   "cell_type": "code",
   "execution_count": 2,
   "id": "4ca6f8c4-a87e-46f1-84e6-7a7900fa0ea8",
   "metadata": {},
   "outputs": [],
   "source": [
    "df = pd.read_csv(\"../data/train.csv\")"
   ]
  },
  {
   "cell_type": "code",
   "execution_count": 3,
   "id": "a001f3aa-a62c-416b-95e9-a9f20048d1f1",
   "metadata": {},
   "outputs": [
    {
     "data": {
      "text/html": [
       "<div>\n",
       "<style scoped>\n",
       "    .dataframe tbody tr th:only-of-type {\n",
       "        vertical-align: middle;\n",
       "    }\n",
       "\n",
       "    .dataframe tbody tr th {\n",
       "        vertical-align: top;\n",
       "    }\n",
       "\n",
       "    .dataframe thead th {\n",
       "        text-align: right;\n",
       "    }\n",
       "</style>\n",
       "<table border=\"1\" class=\"dataframe\">\n",
       "  <thead>\n",
       "    <tr style=\"text-align: right;\">\n",
       "      <th></th>\n",
       "      <th>PassengerId</th>\n",
       "      <th>HomePlanet</th>\n",
       "      <th>CryoSleep</th>\n",
       "      <th>Cabin</th>\n",
       "      <th>Destination</th>\n",
       "      <th>Age</th>\n",
       "      <th>VIP</th>\n",
       "      <th>RoomService</th>\n",
       "      <th>FoodCourt</th>\n",
       "      <th>ShoppingMall</th>\n",
       "      <th>Spa</th>\n",
       "      <th>VRDeck</th>\n",
       "      <th>Name</th>\n",
       "      <th>Transported</th>\n",
       "    </tr>\n",
       "  </thead>\n",
       "  <tbody>\n",
       "    <tr>\n",
       "      <th>0</th>\n",
       "      <td>0001_01</td>\n",
       "      <td>Europa</td>\n",
       "      <td>False</td>\n",
       "      <td>B/0/P</td>\n",
       "      <td>TRAPPIST-1e</td>\n",
       "      <td>39.0</td>\n",
       "      <td>False</td>\n",
       "      <td>0.0</td>\n",
       "      <td>0.0</td>\n",
       "      <td>0.0</td>\n",
       "      <td>0.0</td>\n",
       "      <td>0.0</td>\n",
       "      <td>Maham Ofracculy</td>\n",
       "      <td>False</td>\n",
       "    </tr>\n",
       "    <tr>\n",
       "      <th>1</th>\n",
       "      <td>0002_01</td>\n",
       "      <td>Earth</td>\n",
       "      <td>False</td>\n",
       "      <td>F/0/S</td>\n",
       "      <td>TRAPPIST-1e</td>\n",
       "      <td>24.0</td>\n",
       "      <td>False</td>\n",
       "      <td>109.0</td>\n",
       "      <td>9.0</td>\n",
       "      <td>25.0</td>\n",
       "      <td>549.0</td>\n",
       "      <td>44.0</td>\n",
       "      <td>Juanna Vines</td>\n",
       "      <td>True</td>\n",
       "    </tr>\n",
       "    <tr>\n",
       "      <th>2</th>\n",
       "      <td>0003_01</td>\n",
       "      <td>Europa</td>\n",
       "      <td>False</td>\n",
       "      <td>A/0/S</td>\n",
       "      <td>TRAPPIST-1e</td>\n",
       "      <td>58.0</td>\n",
       "      <td>True</td>\n",
       "      <td>43.0</td>\n",
       "      <td>3576.0</td>\n",
       "      <td>0.0</td>\n",
       "      <td>6715.0</td>\n",
       "      <td>49.0</td>\n",
       "      <td>Altark Susent</td>\n",
       "      <td>False</td>\n",
       "    </tr>\n",
       "    <tr>\n",
       "      <th>3</th>\n",
       "      <td>0003_02</td>\n",
       "      <td>Europa</td>\n",
       "      <td>False</td>\n",
       "      <td>A/0/S</td>\n",
       "      <td>TRAPPIST-1e</td>\n",
       "      <td>33.0</td>\n",
       "      <td>False</td>\n",
       "      <td>0.0</td>\n",
       "      <td>1283.0</td>\n",
       "      <td>371.0</td>\n",
       "      <td>3329.0</td>\n",
       "      <td>193.0</td>\n",
       "      <td>Solam Susent</td>\n",
       "      <td>False</td>\n",
       "    </tr>\n",
       "    <tr>\n",
       "      <th>4</th>\n",
       "      <td>0004_01</td>\n",
       "      <td>Earth</td>\n",
       "      <td>False</td>\n",
       "      <td>F/1/S</td>\n",
       "      <td>TRAPPIST-1e</td>\n",
       "      <td>16.0</td>\n",
       "      <td>False</td>\n",
       "      <td>303.0</td>\n",
       "      <td>70.0</td>\n",
       "      <td>151.0</td>\n",
       "      <td>565.0</td>\n",
       "      <td>2.0</td>\n",
       "      <td>Willy Santantines</td>\n",
       "      <td>True</td>\n",
       "    </tr>\n",
       "  </tbody>\n",
       "</table>\n",
       "</div>"
      ],
      "text/plain": [
       "  PassengerId HomePlanet CryoSleep  Cabin  Destination   Age    VIP  \\\n",
       "0     0001_01     Europa     False  B/0/P  TRAPPIST-1e  39.0  False   \n",
       "1     0002_01      Earth     False  F/0/S  TRAPPIST-1e  24.0  False   \n",
       "2     0003_01     Europa     False  A/0/S  TRAPPIST-1e  58.0   True   \n",
       "3     0003_02     Europa     False  A/0/S  TRAPPIST-1e  33.0  False   \n",
       "4     0004_01      Earth     False  F/1/S  TRAPPIST-1e  16.0  False   \n",
       "\n",
       "   RoomService  FoodCourt  ShoppingMall     Spa  VRDeck               Name  \\\n",
       "0          0.0        0.0           0.0     0.0     0.0    Maham Ofracculy   \n",
       "1        109.0        9.0          25.0   549.0    44.0       Juanna Vines   \n",
       "2         43.0     3576.0           0.0  6715.0    49.0      Altark Susent   \n",
       "3          0.0     1283.0         371.0  3329.0   193.0       Solam Susent   \n",
       "4        303.0       70.0         151.0   565.0     2.0  Willy Santantines   \n",
       "\n",
       "   Transported  \n",
       "0        False  \n",
       "1         True  \n",
       "2        False  \n",
       "3        False  \n",
       "4         True  "
      ]
     },
     "execution_count": 3,
     "metadata": {},
     "output_type": "execute_result"
    }
   ],
   "source": [
    "df.head()"
   ]
  },
  {
   "cell_type": "code",
   "execution_count": 4,
   "id": "6f7b2142-ac08-46c5-a2a3-6ab11c001b3d",
   "metadata": {
    "tags": []
   },
   "outputs": [
    {
     "data": {
      "text/plain": [
       "(8693, 14)"
      ]
     },
     "execution_count": 4,
     "metadata": {},
     "output_type": "execute_result"
    }
   ],
   "source": [
    "df.shape"
   ]
  },
  {
   "cell_type": "code",
   "execution_count": 5,
   "id": "cb0bd4ab-251d-4977-9501-869beda38a91",
   "metadata": {
    "tags": []
   },
   "outputs": [
    {
     "data": {
      "text/plain": [
       "PassengerId      object\n",
       "HomePlanet       object\n",
       "CryoSleep        object\n",
       "Cabin            object\n",
       "Destination      object\n",
       "Age             float64\n",
       "VIP              object\n",
       "RoomService     float64\n",
       "FoodCourt       float64\n",
       "ShoppingMall    float64\n",
       "Spa             float64\n",
       "VRDeck          float64\n",
       "Name             object\n",
       "Transported        bool\n",
       "dtype: object"
      ]
     },
     "execution_count": 5,
     "metadata": {},
     "output_type": "execute_result"
    }
   ],
   "source": [
    "df.dtypes"
   ]
  },
  {
   "cell_type": "markdown",
   "id": "001c659b-7696-409b-af94-1aa0b0a98183",
   "metadata": {
    "tags": []
   },
   "source": [
    "# Cleanup and transform the data\n"
   ]
  },
  {
   "cell_type": "code",
   "execution_count": 6,
   "id": "0f17d112-8963-4b87-b99c-aa6dbe6d2b2c",
   "metadata": {},
   "outputs": [],
   "source": [
    "def transform_data(df, test_data=False):\n",
    "    df.drop('Name', axis=1, inplace=True)\n",
    "    if(test_data):\n",
    "        df.dropna(subset=['Cabin', 'RoomService', 'FoodCourt', 'ShoppingMall', 'Spa', 'VRDeck', 'Age'], inplace=True)\n",
    "    else:\n",
    "        df.dropna(subset=['Transported', 'Cabin', 'RoomService', 'FoodCourt', 'ShoppingMall', 'Spa', 'VRDeck', 'Age'], inplace=True)\n",
    "    # df['RoomService'].fillna(df['RoomService'].median(), inplace=True)\n",
    "    # df['FoodCourt'].fillna(df['FoodCourt'].median(), inplace=True)\n",
    "    # df['ShoppingMall'].fillna(df['ShoppingMall'].median(), inplace=True)\n",
    "    # df['Spa'].fillna(df['Spa'].median(), inplace=True)\n",
    "    # df['VRDeck'].fillna(df['VRDeck'].median(), inplace=True)\n",
    "    # df['Age'].fillna(df['VRDeck'].mean(), inplace=True)\n",
    "    # df['RoomService'].fillna(-1, inplace=True)\n",
    "    # df['FoodCourt'].fillna(-1, inplace=True)\n",
    "    # df['ShoppingMall'].fillna(-1, inplace=True)\n",
    "    # df['Spa'].fillna(-1, inplace=True)\n",
    "    # df['VRDeck'].fillna(-1, inplace=True)\n",
    "    # df['Age'].fillna(-1, inplace=True)\n",
    "    one_hot_home = pd.get_dummies(df['HomePlanet'], prefix='HomePlanet_').astype(int)\n",
    "    df.drop('HomePlanet', axis=1, inplace=True)\n",
    "    df = df.join(one_hot_home)\n",
    "    one_hot_dest = pd.get_dummies(df['Destination'], prefix='Destination_').astype(int)\n",
    "    df.drop('Destination', axis=1, inplace=True)\n",
    "    df = df.join(one_hot_dest)\n",
    "    df[['Deck', 'Num', 'Side']] = df['Cabin'].str.split('/', expand=True)\n",
    "    df.drop('Cabin', axis=1, inplace=True)\n",
    "    df['Num'] = pd.to_numeric(df['Num'], errors='coerce')\n",
    "    one_hot_deck = pd.get_dummies(df['Deck'], prefix='Deck').astype(int)\n",
    "    df.drop('Deck', axis=1, inplace=True)\n",
    "    df = df.join(one_hot_deck)\n",
    "    one_hot_side = pd.get_dummies(df['Side'], prefix='Side_').astype(int)\n",
    "    df.drop('Side', axis=1, inplace=True)\n",
    "    df = df.join(one_hot_side)\n",
    "    one_hot_vip = pd.get_dummies(df['VIP'], prefix='VIP_').astype(int)\n",
    "    df.drop('VIP', axis=1, inplace=True)\n",
    "    df = df.join(one_hot_vip)\n",
    "    one_hot_sleep = pd.get_dummies(df['CryoSleep'], prefix='CryoSleep_').astype(int)\n",
    "    df.drop('CryoSleep', axis=1, inplace=True)\n",
    "    df = df.join(one_hot_sleep)\n",
    "    if(test_data == False):\n",
    "        df['Transported'] = pd.to_numeric(df['Transported'], errors='coerce')\n",
    "        col_transported = df['Transported'].astype(int)\n",
    "        df.drop(columns='Transported', inplace=True)\n",
    "        df.insert(0, 'Transported', col_transported)\n",
    "    # Polynomials\n",
    "    df['RoomService^2'] = pow(df['RoomService'], 2)\n",
    "    df['RoomService^3'] = pow(df['RoomService'], 3)\n",
    "    df['RoomService^4'] = pow(df['RoomService'], 4)\n",
    "    df['RoomService^5'] = pow(df['RoomService'], 5)\n",
    "    df['FoodCourt^2'] = pow(df['FoodCourt'], 2)\n",
    "    df['FoodCourt^3'] = pow(df['FoodCourt'], 3)\n",
    "    df['FoodCourt^4'] = pow(df['FoodCourt'], 4)\n",
    "    df['FoodCourt^5'] = pow(df['FoodCourt'], 5)\n",
    "    df['ShoppingMall^2'] = pow(df['ShoppingMall'], 2)\n",
    "    df['ShoppingMall^3'] = pow(df['ShoppingMall'], 3)\n",
    "    df['ShoppingMall^4'] = pow(df['ShoppingMall'], 4)\n",
    "    df['ShoppingMall^5'] = pow(df['ShoppingMall'], 5)\n",
    "    df['Spa^2'] = pow(df['Spa'], 2)\n",
    "    df['Spa^3'] = pow(df['Spa'], 3)\n",
    "    df['Spa^4'] = pow(df['Spa'], 4)\n",
    "    df['Spa^5'] = pow(df['Spa'], 5)\n",
    "    df['VRDeck^2'] = pow(df['VRDeck'], 2)\n",
    "    df['VRDeck^3'] = pow(df['VRDeck'], 3)\n",
    "    df['VRDeck^4'] = pow(df['VRDeck'], 4)\n",
    "    df['VRDeck^5'] = pow(df['VRDeck'], 5)\n",
    "    # Sum\n",
    "    df['sum-1'] = df['VRDeck'] + df['Spa']\n",
    "    df['sum-2'] = df['VRDeck'] + df['ShoppingMall']\n",
    "    df['sum-3'] = df['VRDeck'] + df['FoodCourt']\n",
    "    df['sum-4'] = df['VRDeck'] + df['RoomService']\n",
    "    df['sum-5'] = df['Spa'] + df['ShoppingMall']\n",
    "    df['sum-6'] = df['Spa'] + df['FoodCourt']\n",
    "    df['sum-7'] = df['Spa'] + df['RoomService']\n",
    "    df['sum-8'] = df['ShoppingMall'] + df['FoodCourt']\n",
    "    df['sum-9'] = df['ShoppingMall'] + df['RoomService']\n",
    "    df['sum-10'] = df['FoodCourt'] + df['RoomService']\n",
    "    df['sum-11'] = df['VRDeck'] + df['Spa'] + df['ShoppingMall'] + df['FoodCourt'] + df['RoomService']\n",
    "    return df"
   ]
  },
  {
   "cell_type": "code",
   "execution_count": 7,
   "id": "e22ff587-513d-40cf-bedf-39c04d843a58",
   "metadata": {},
   "outputs": [],
   "source": [
    "df = transform_data(df)"
   ]
  },
  {
   "cell_type": "code",
   "execution_count": 8,
   "id": "f1ef0d4d-e1ec-46b1-a27d-e7dff017f3ce",
   "metadata": {},
   "outputs": [
    {
     "data": {
      "text/plain": [
       "(7441, 60)"
      ]
     },
     "execution_count": 8,
     "metadata": {},
     "output_type": "execute_result"
    }
   ],
   "source": [
    "df.shape"
   ]
  },
  {
   "cell_type": "code",
   "execution_count": 9,
   "id": "543b13be-69de-44d9-b740-a19e4e273afb",
   "metadata": {
    "tags": []
   },
   "outputs": [
    {
     "data": {
      "text/html": [
       "<div>\n",
       "<style scoped>\n",
       "    .dataframe tbody tr th:only-of-type {\n",
       "        vertical-align: middle;\n",
       "    }\n",
       "\n",
       "    .dataframe tbody tr th {\n",
       "        vertical-align: top;\n",
       "    }\n",
       "\n",
       "    .dataframe thead th {\n",
       "        text-align: right;\n",
       "    }\n",
       "</style>\n",
       "<table border=\"1\" class=\"dataframe\">\n",
       "  <thead>\n",
       "    <tr style=\"text-align: right;\">\n",
       "      <th></th>\n",
       "      <th>Transported</th>\n",
       "      <th>PassengerId</th>\n",
       "      <th>Age</th>\n",
       "      <th>RoomService</th>\n",
       "      <th>FoodCourt</th>\n",
       "      <th>ShoppingMall</th>\n",
       "      <th>Spa</th>\n",
       "      <th>VRDeck</th>\n",
       "      <th>HomePlanet__Earth</th>\n",
       "      <th>HomePlanet__Europa</th>\n",
       "      <th>...</th>\n",
       "      <th>sum-2</th>\n",
       "      <th>sum-3</th>\n",
       "      <th>sum-4</th>\n",
       "      <th>sum-5</th>\n",
       "      <th>sum-6</th>\n",
       "      <th>sum-7</th>\n",
       "      <th>sum-8</th>\n",
       "      <th>sum-9</th>\n",
       "      <th>sum-10</th>\n",
       "      <th>sum-11</th>\n",
       "    </tr>\n",
       "  </thead>\n",
       "  <tbody>\n",
       "    <tr>\n",
       "      <th>0</th>\n",
       "      <td>0</td>\n",
       "      <td>0001_01</td>\n",
       "      <td>39.0</td>\n",
       "      <td>0.0</td>\n",
       "      <td>0.0</td>\n",
       "      <td>0.0</td>\n",
       "      <td>0.0</td>\n",
       "      <td>0.0</td>\n",
       "      <td>0</td>\n",
       "      <td>1</td>\n",
       "      <td>...</td>\n",
       "      <td>0.0</td>\n",
       "      <td>0.0</td>\n",
       "      <td>0.0</td>\n",
       "      <td>0.0</td>\n",
       "      <td>0.0</td>\n",
       "      <td>0.0</td>\n",
       "      <td>0.0</td>\n",
       "      <td>0.0</td>\n",
       "      <td>0.0</td>\n",
       "      <td>0.0</td>\n",
       "    </tr>\n",
       "    <tr>\n",
       "      <th>1</th>\n",
       "      <td>1</td>\n",
       "      <td>0002_01</td>\n",
       "      <td>24.0</td>\n",
       "      <td>109.0</td>\n",
       "      <td>9.0</td>\n",
       "      <td>25.0</td>\n",
       "      <td>549.0</td>\n",
       "      <td>44.0</td>\n",
       "      <td>1</td>\n",
       "      <td>0</td>\n",
       "      <td>...</td>\n",
       "      <td>69.0</td>\n",
       "      <td>53.0</td>\n",
       "      <td>153.0</td>\n",
       "      <td>574.0</td>\n",
       "      <td>558.0</td>\n",
       "      <td>658.0</td>\n",
       "      <td>34.0</td>\n",
       "      <td>134.0</td>\n",
       "      <td>118.0</td>\n",
       "      <td>736.0</td>\n",
       "    </tr>\n",
       "    <tr>\n",
       "      <th>2</th>\n",
       "      <td>0</td>\n",
       "      <td>0003_01</td>\n",
       "      <td>58.0</td>\n",
       "      <td>43.0</td>\n",
       "      <td>3576.0</td>\n",
       "      <td>0.0</td>\n",
       "      <td>6715.0</td>\n",
       "      <td>49.0</td>\n",
       "      <td>0</td>\n",
       "      <td>1</td>\n",
       "      <td>...</td>\n",
       "      <td>49.0</td>\n",
       "      <td>3625.0</td>\n",
       "      <td>92.0</td>\n",
       "      <td>6715.0</td>\n",
       "      <td>10291.0</td>\n",
       "      <td>6758.0</td>\n",
       "      <td>3576.0</td>\n",
       "      <td>43.0</td>\n",
       "      <td>3619.0</td>\n",
       "      <td>10383.0</td>\n",
       "    </tr>\n",
       "    <tr>\n",
       "      <th>3</th>\n",
       "      <td>0</td>\n",
       "      <td>0003_02</td>\n",
       "      <td>33.0</td>\n",
       "      <td>0.0</td>\n",
       "      <td>1283.0</td>\n",
       "      <td>371.0</td>\n",
       "      <td>3329.0</td>\n",
       "      <td>193.0</td>\n",
       "      <td>0</td>\n",
       "      <td>1</td>\n",
       "      <td>...</td>\n",
       "      <td>564.0</td>\n",
       "      <td>1476.0</td>\n",
       "      <td>193.0</td>\n",
       "      <td>3700.0</td>\n",
       "      <td>4612.0</td>\n",
       "      <td>3329.0</td>\n",
       "      <td>1654.0</td>\n",
       "      <td>371.0</td>\n",
       "      <td>1283.0</td>\n",
       "      <td>5176.0</td>\n",
       "    </tr>\n",
       "    <tr>\n",
       "      <th>4</th>\n",
       "      <td>1</td>\n",
       "      <td>0004_01</td>\n",
       "      <td>16.0</td>\n",
       "      <td>303.0</td>\n",
       "      <td>70.0</td>\n",
       "      <td>151.0</td>\n",
       "      <td>565.0</td>\n",
       "      <td>2.0</td>\n",
       "      <td>1</td>\n",
       "      <td>0</td>\n",
       "      <td>...</td>\n",
       "      <td>153.0</td>\n",
       "      <td>72.0</td>\n",
       "      <td>305.0</td>\n",
       "      <td>716.0</td>\n",
       "      <td>635.0</td>\n",
       "      <td>868.0</td>\n",
       "      <td>221.0</td>\n",
       "      <td>454.0</td>\n",
       "      <td>373.0</td>\n",
       "      <td>1091.0</td>\n",
       "    </tr>\n",
       "  </tbody>\n",
       "</table>\n",
       "<p>5 rows × 60 columns</p>\n",
       "</div>"
      ],
      "text/plain": [
       "   Transported PassengerId   Age  RoomService  FoodCourt  ShoppingMall  \\\n",
       "0            0     0001_01  39.0          0.0        0.0           0.0   \n",
       "1            1     0002_01  24.0        109.0        9.0          25.0   \n",
       "2            0     0003_01  58.0         43.0     3576.0           0.0   \n",
       "3            0     0003_02  33.0          0.0     1283.0         371.0   \n",
       "4            1     0004_01  16.0        303.0       70.0         151.0   \n",
       "\n",
       "      Spa  VRDeck  HomePlanet__Earth  HomePlanet__Europa  ...  sum-2   sum-3  \\\n",
       "0     0.0     0.0                  0                   1  ...    0.0     0.0   \n",
       "1   549.0    44.0                  1                   0  ...   69.0    53.0   \n",
       "2  6715.0    49.0                  0                   1  ...   49.0  3625.0   \n",
       "3  3329.0   193.0                  0                   1  ...  564.0  1476.0   \n",
       "4   565.0     2.0                  1                   0  ...  153.0    72.0   \n",
       "\n",
       "   sum-4   sum-5    sum-6   sum-7   sum-8  sum-9  sum-10   sum-11  \n",
       "0    0.0     0.0      0.0     0.0     0.0    0.0     0.0      0.0  \n",
       "1  153.0   574.0    558.0   658.0    34.0  134.0   118.0    736.0  \n",
       "2   92.0  6715.0  10291.0  6758.0  3576.0   43.0  3619.0  10383.0  \n",
       "3  193.0  3700.0   4612.0  3329.0  1654.0  371.0  1283.0   5176.0  \n",
       "4  305.0   716.0    635.0   868.0   221.0  454.0   373.0   1091.0  \n",
       "\n",
       "[5 rows x 60 columns]"
      ]
     },
     "execution_count": 9,
     "metadata": {},
     "output_type": "execute_result"
    }
   ],
   "source": [
    "df.head()"
   ]
  },
  {
   "cell_type": "code",
   "execution_count": 10,
   "id": "94f73abf-e52c-4e63-a3d5-e377d85ee566",
   "metadata": {
    "tags": []
   },
   "outputs": [
    {
     "data": {
      "text/plain": [
       "Transported                     int64\n",
       "PassengerId                    object\n",
       "Age                           float64\n",
       "RoomService                   float64\n",
       "FoodCourt                     float64\n",
       "ShoppingMall                  float64\n",
       "Spa                           float64\n",
       "VRDeck                        float64\n",
       "HomePlanet__Earth               int64\n",
       "HomePlanet__Europa              int64\n",
       "HomePlanet__Mars                int64\n",
       "Destination__55 Cancri e        int64\n",
       "Destination__PSO J318.5-22      int64\n",
       "Destination__TRAPPIST-1e        int64\n",
       "Num                             int64\n",
       "Deck_A                          int64\n",
       "Deck_B                          int64\n",
       "Deck_C                          int64\n",
       "Deck_D                          int64\n",
       "Deck_E                          int64\n",
       "Deck_F                          int64\n",
       "Deck_G                          int64\n",
       "Deck_T                          int64\n",
       "Side__P                         int64\n",
       "Side__S                         int64\n",
       "VIP__False                      int64\n",
       "VIP__True                       int64\n",
       "CryoSleep__False                int64\n",
       "CryoSleep__True                 int64\n",
       "RoomService^2                 float64\n",
       "RoomService^3                 float64\n",
       "RoomService^4                 float64\n",
       "RoomService^5                 float64\n",
       "FoodCourt^2                   float64\n",
       "FoodCourt^3                   float64\n",
       "FoodCourt^4                   float64\n",
       "FoodCourt^5                   float64\n",
       "ShoppingMall^2                float64\n",
       "ShoppingMall^3                float64\n",
       "ShoppingMall^4                float64\n",
       "ShoppingMall^5                float64\n",
       "Spa^2                         float64\n",
       "Spa^3                         float64\n",
       "Spa^4                         float64\n",
       "Spa^5                         float64\n",
       "VRDeck^2                      float64\n",
       "VRDeck^3                      float64\n",
       "VRDeck^4                      float64\n",
       "VRDeck^5                      float64\n",
       "sum-1                         float64\n",
       "sum-2                         float64\n",
       "sum-3                         float64\n",
       "sum-4                         float64\n",
       "sum-5                         float64\n",
       "sum-6                         float64\n",
       "sum-7                         float64\n",
       "sum-8                         float64\n",
       "sum-9                         float64\n",
       "sum-10                        float64\n",
       "sum-11                        float64\n",
       "dtype: object"
      ]
     },
     "execution_count": 10,
     "metadata": {},
     "output_type": "execute_result"
    }
   ],
   "source": [
    "df.dtypes"
   ]
  },
  {
   "cell_type": "markdown",
   "id": "3e661e84-e1d9-4c53-9937-3f57c48d267d",
   "metadata": {},
   "source": [
    "# Split data into Training and Cross Validation sets"
   ]
  },
  {
   "cell_type": "code",
   "execution_count": 11,
   "id": "a3cb3894-f207-4f36-b7db-0e7f2255d6c7",
   "metadata": {
    "tags": []
   },
   "outputs": [],
   "source": [
    "# Shuffle data & create a DF without the id\n",
    "df.sample(frac=1).reset_index(drop=True)\n",
    "\n",
    "# Create new dataframe without passenger id\n",
    "df_no_passenger_id = df.drop('PassengerId', axis=1)"
   ]
  },
  {
   "cell_type": "code",
   "execution_count": 12,
   "id": "7931d9a7-4a5a-4a53-8ce1-04419e056862",
   "metadata": {},
   "outputs": [],
   "source": [
    "def normalize_data(df):\n",
    "    # split dataframe into float and non-float columns\n",
    "    df_float = df.select_dtypes(include=['float64'])\n",
    "    df_int = df.select_dtypes(exclude=['float64'])\n",
    "\n",
    "    # convert float dataframe to numpy array\n",
    "    float_array = df_float.to_numpy()\n",
    "\n",
    "    # normalize the float numpy array\n",
    "    normalizer = tf.keras.layers.Normalization(axis=-1)\n",
    "    normalizer.adapt(float_array)\n",
    "    normalized_array = normalizer(float_array)\n",
    "\n",
    "    # convert normalized numpy array back to dataframe\n",
    "    df_normalized = pd.DataFrame(normalized_array, index=df_float.index, columns=df_float.columns)\n",
    "\n",
    "    # concatenate normalized dataframe back with int dataframe\n",
    "    df_new = pd.concat([df_int, df_normalized], axis=1)\n",
    "    return df_new"
   ]
  },
  {
   "cell_type": "code",
   "execution_count": 13,
   "id": "918f6271-054c-413b-80f3-9e857fdba6d3",
   "metadata": {},
   "outputs": [],
   "source": [
    "df_new = normalize_data(df_no_passenger_id)"
   ]
  },
  {
   "cell_type": "code",
   "execution_count": 14,
   "id": "38dfa8df-1ed6-4668-85bd-367f618aa363",
   "metadata": {
    "tags": []
   },
   "outputs": [
    {
     "data": {
      "text/html": [
       "<div>\n",
       "<style scoped>\n",
       "    .dataframe tbody tr th:only-of-type {\n",
       "        vertical-align: middle;\n",
       "    }\n",
       "\n",
       "    .dataframe tbody tr th {\n",
       "        vertical-align: top;\n",
       "    }\n",
       "\n",
       "    .dataframe thead th {\n",
       "        text-align: right;\n",
       "    }\n",
       "</style>\n",
       "<table border=\"1\" class=\"dataframe\">\n",
       "  <thead>\n",
       "    <tr style=\"text-align: right;\">\n",
       "      <th></th>\n",
       "      <th>Transported</th>\n",
       "      <th>HomePlanet__Earth</th>\n",
       "      <th>HomePlanet__Europa</th>\n",
       "      <th>HomePlanet__Mars</th>\n",
       "      <th>Destination__55 Cancri e</th>\n",
       "      <th>Destination__PSO J318.5-22</th>\n",
       "      <th>Destination__TRAPPIST-1e</th>\n",
       "      <th>Num</th>\n",
       "      <th>Deck_A</th>\n",
       "      <th>Deck_B</th>\n",
       "      <th>...</th>\n",
       "      <th>sum-2</th>\n",
       "      <th>sum-3</th>\n",
       "      <th>sum-4</th>\n",
       "      <th>sum-5</th>\n",
       "      <th>sum-6</th>\n",
       "      <th>sum-7</th>\n",
       "      <th>sum-8</th>\n",
       "      <th>sum-9</th>\n",
       "      <th>sum-10</th>\n",
       "      <th>sum-11</th>\n",
       "    </tr>\n",
       "  </thead>\n",
       "  <tbody>\n",
       "    <tr>\n",
       "      <th>0</th>\n",
       "      <td>0</td>\n",
       "      <td>0</td>\n",
       "      <td>1</td>\n",
       "      <td>0</td>\n",
       "      <td>0</td>\n",
       "      <td>0</td>\n",
       "      <td>1</td>\n",
       "      <td>0</td>\n",
       "      <td>0</td>\n",
       "      <td>1</td>\n",
       "      <td>...</td>\n",
       "      <td>-0.374747</td>\n",
       "      <td>-0.353759</td>\n",
       "      <td>-0.411028</td>\n",
       "      <td>-0.374802</td>\n",
       "      <td>-0.356861</td>\n",
       "      <td>-0.407607</td>\n",
       "      <td>-0.368794</td>\n",
       "      <td>-0.434729</td>\n",
       "      <td>-0.394900</td>\n",
       "      <td>-0.523452</td>\n",
       "    </tr>\n",
       "    <tr>\n",
       "      <th>1</th>\n",
       "      <td>1</td>\n",
       "      <td>1</td>\n",
       "      <td>0</td>\n",
       "      <td>0</td>\n",
       "      <td>0</td>\n",
       "      <td>0</td>\n",
       "      <td>1</td>\n",
       "      <td>0</td>\n",
       "      <td>0</td>\n",
       "      <td>0</td>\n",
       "      <td>...</td>\n",
       "      <td>-0.320450</td>\n",
       "      <td>-0.329515</td>\n",
       "      <td>-0.291269</td>\n",
       "      <td>0.066224</td>\n",
       "      <td>-0.103169</td>\n",
       "      <td>0.092123</td>\n",
       "      <td>-0.349428</td>\n",
       "      <td>-0.288823</td>\n",
       "      <td>-0.327984</td>\n",
       "      <td>-0.264056</td>\n",
       "    </tr>\n",
       "    <tr>\n",
       "      <th>2</th>\n",
       "      <td>0</td>\n",
       "      <td>0</td>\n",
       "      <td>1</td>\n",
       "      <td>0</td>\n",
       "      <td>0</td>\n",
       "      <td>0</td>\n",
       "      <td>1</td>\n",
       "      <td>0</td>\n",
       "      <td>1</td>\n",
       "      <td>0</td>\n",
       "      <td>...</td>\n",
       "      <td>-0.336188</td>\n",
       "      <td>1.304476</td>\n",
       "      <td>-0.339016</td>\n",
       "      <td>4.784596</td>\n",
       "      <td>4.321876</td>\n",
       "      <td>4.724882</td>\n",
       "      <td>1.668039</td>\n",
       "      <td>-0.387908</td>\n",
       "      <td>1.657371</td>\n",
       "      <td>3.135938</td>\n",
       "    </tr>\n",
       "    <tr>\n",
       "      <th>3</th>\n",
       "      <td>0</td>\n",
       "      <td>0</td>\n",
       "      <td>1</td>\n",
       "      <td>0</td>\n",
       "      <td>0</td>\n",
       "      <td>0</td>\n",
       "      <td>1</td>\n",
       "      <td>0</td>\n",
       "      <td>1</td>\n",
       "      <td>0</td>\n",
       "      <td>...</td>\n",
       "      <td>0.069073</td>\n",
       "      <td>0.321428</td>\n",
       "      <td>-0.259959</td>\n",
       "      <td>2.468053</td>\n",
       "      <td>1.739955</td>\n",
       "      <td>2.120664</td>\n",
       "      <td>0.573298</td>\n",
       "      <td>-0.030766</td>\n",
       "      <td>0.332667</td>\n",
       "      <td>1.300780</td>\n",
       "    </tr>\n",
       "    <tr>\n",
       "      <th>4</th>\n",
       "      <td>1</td>\n",
       "      <td>1</td>\n",
       "      <td>0</td>\n",
       "      <td>0</td>\n",
       "      <td>0</td>\n",
       "      <td>0</td>\n",
       "      <td>1</td>\n",
       "      <td>1</td>\n",
       "      <td>0</td>\n",
       "      <td>0</td>\n",
       "      <td>...</td>\n",
       "      <td>-0.254349</td>\n",
       "      <td>-0.320823</td>\n",
       "      <td>-0.172292</td>\n",
       "      <td>0.175329</td>\n",
       "      <td>-0.068162</td>\n",
       "      <td>0.251612</td>\n",
       "      <td>-0.242916</td>\n",
       "      <td>0.059609</td>\n",
       "      <td>-0.183378</td>\n",
       "      <td>-0.138939</td>\n",
       "    </tr>\n",
       "  </tbody>\n",
       "</table>\n",
       "<p>5 rows × 59 columns</p>\n",
       "</div>"
      ],
      "text/plain": [
       "   Transported  HomePlanet__Earth  HomePlanet__Europa  HomePlanet__Mars  \\\n",
       "0            0                  0                   1                 0   \n",
       "1            1                  1                   0                 0   \n",
       "2            0                  0                   1                 0   \n",
       "3            0                  0                   1                 0   \n",
       "4            1                  1                   0                 0   \n",
       "\n",
       "   Destination__55 Cancri e  Destination__PSO J318.5-22  \\\n",
       "0                         0                           0   \n",
       "1                         0                           0   \n",
       "2                         0                           0   \n",
       "3                         0                           0   \n",
       "4                         0                           0   \n",
       "\n",
       "   Destination__TRAPPIST-1e  Num  Deck_A  Deck_B  ...     sum-2     sum-3  \\\n",
       "0                         1    0       0       1  ... -0.374747 -0.353759   \n",
       "1                         1    0       0       0  ... -0.320450 -0.329515   \n",
       "2                         1    0       1       0  ... -0.336188  1.304476   \n",
       "3                         1    0       1       0  ...  0.069073  0.321428   \n",
       "4                         1    1       0       0  ... -0.254349 -0.320823   \n",
       "\n",
       "      sum-4     sum-5     sum-6     sum-7     sum-8     sum-9    sum-10  \\\n",
       "0 -0.411028 -0.374802 -0.356861 -0.407607 -0.368794 -0.434729 -0.394900   \n",
       "1 -0.291269  0.066224 -0.103169  0.092123 -0.349428 -0.288823 -0.327984   \n",
       "2 -0.339016  4.784596  4.321876  4.724882  1.668039 -0.387908  1.657371   \n",
       "3 -0.259959  2.468053  1.739955  2.120664  0.573298 -0.030766  0.332667   \n",
       "4 -0.172292  0.175329 -0.068162  0.251612 -0.242916  0.059609 -0.183378   \n",
       "\n",
       "     sum-11  \n",
       "0 -0.523452  \n",
       "1 -0.264056  \n",
       "2  3.135938  \n",
       "3  1.300780  \n",
       "4 -0.138939  \n",
       "\n",
       "[5 rows x 59 columns]"
      ]
     },
     "execution_count": 14,
     "metadata": {},
     "output_type": "execute_result"
    }
   ],
   "source": [
    "df_new.head()"
   ]
  },
  {
   "cell_type": "code",
   "execution_count": 15,
   "id": "1b352940-6797-4082-bee1-c44e9147e0d0",
   "metadata": {
    "tags": []
   },
   "outputs": [],
   "source": [
    "Y = df_new.to_numpy()[:, 0, np.newaxis]\n",
    "X = df_new.to_numpy()[:, 1:]\n",
    "\n",
    "X_train, X_cv, Y_train, Y_cv = train_test_split(X, Y, test_size=0.20, random_state=1)"
   ]
  },
  {
   "cell_type": "code",
   "execution_count": 16,
   "id": "02935fc8-033a-4b43-a6d1-dab5b67d23b6",
   "metadata": {
    "tags": []
   },
   "outputs": [
    {
     "data": {
      "text/plain": [
       "(5952, 58)"
      ]
     },
     "execution_count": 16,
     "metadata": {},
     "output_type": "execute_result"
    }
   ],
   "source": [
    "X_train.shape"
   ]
  },
  {
   "cell_type": "code",
   "execution_count": 17,
   "id": "82b90a08-7de1-4c99-889b-abe2ade1648e",
   "metadata": {
    "tags": []
   },
   "outputs": [
    {
     "data": {
      "text/plain": [
       "(5952, 1)"
      ]
     },
     "execution_count": 17,
     "metadata": {},
     "output_type": "execute_result"
    }
   ],
   "source": [
    "Y_train.shape"
   ]
  },
  {
   "cell_type": "code",
   "execution_count": 18,
   "id": "bec769ab-97e0-4264-b825-7e5971b089d7",
   "metadata": {
    "tags": []
   },
   "outputs": [
    {
     "data": {
      "text/plain": [
       "(1489, 58)"
      ]
     },
     "execution_count": 18,
     "metadata": {},
     "output_type": "execute_result"
    }
   ],
   "source": [
    "X_cv.shape"
   ]
  },
  {
   "cell_type": "code",
   "execution_count": 19,
   "id": "231148f1-d61a-4c03-ae19-4adb7d1873a7",
   "metadata": {
    "tags": []
   },
   "outputs": [
    {
     "data": {
      "text/plain": [
       "(1489, 1)"
      ]
     },
     "execution_count": 19,
     "metadata": {},
     "output_type": "execute_result"
    }
   ],
   "source": [
    "Y_cv.shape"
   ]
  },
  {
   "cell_type": "markdown",
   "id": "a8f2f4e7-0a2d-40a5-a06e-bfe2ca4bb546",
   "metadata": {},
   "source": [
    "# Build a Neural Network"
   ]
  },
  {
   "cell_type": "code",
   "execution_count": 20,
   "id": "735ab05a-de05-46bc-81f2-25fd5f701a78",
   "metadata": {},
   "outputs": [],
   "source": [
    "# Create a custom callback to display output every x epochs\n",
    "class EveryXEpochs(Callback):\n",
    "    def __init__(self, x):\n",
    "        super(EveryXEpochs, self).__init__()\n",
    "        self.x = x\n",
    "\n",
    "    def on_epoch_end(self, epoch, logs=None):\n",
    "        if (epoch + 1) % self.x == 0:\n",
    "            print(f\"Epoch {epoch + 1}: loss = {logs['loss']:.4f}, acc = {logs['accuracy']:.4f}\")"
   ]
  },
  {
   "cell_type": "code",
   "execution_count": 21,
   "id": "fa78af62-55a7-4ccd-8b33-ee2ac027983f",
   "metadata": {},
   "outputs": [],
   "source": [
    "verbose_callback = EveryXEpochs(x=100)"
   ]
  },
  {
   "cell_type": "code",
   "execution_count": 23,
   "id": "59dd0eb5-eade-41e5-91d7-b7ae5c772020",
   "metadata": {
    "tags": []
   },
   "outputs": [
    {
     "name": "stdout",
     "output_type": "stream",
     "text": [
      "Epoch 100: loss = 0.4527, acc = 0.7829\n",
      "Epoch 200: loss = 0.4411, acc = 0.7863\n",
      "Epoch 300: loss = 0.4330, acc = 0.7893\n",
      "Epoch 400: loss = 0.4279, acc = 0.7893\n",
      "Epoch 500: loss = 0.4213, acc = 0.7912\n",
      "Epoch 600: loss = 0.4210, acc = 0.7928\n",
      "Epoch 700: loss = 0.4138, acc = 0.7932\n",
      "Epoch 800: loss = 0.4076, acc = 0.7960\n",
      "Epoch 900: loss = 0.4099, acc = 0.7969\n",
      "Epoch 1000: loss = 0.4047, acc = 0.8001\n"
     ]
    },
    {
     "data": {
      "text/plain": [
       "<keras.src.callbacks.History at 0x13dd6ab90>"
      ]
     },
     "execution_count": 23,
     "metadata": {},
     "output_type": "execute_result"
    }
   ],
   "source": [
    "layer_1 = Dense(units=64,  activation='relu',    name='layer1', kernel_regularizer=L2(0.0001))\n",
    "layer_2 = Dense(units=32,  activation='relu',    name='layer2', kernel_regularizer=L2(0.0001))\n",
    "layer_3 = Dense(units=64,  activation='relu',    name='layer3', kernel_regularizer=L2(0.0001))\n",
    "layer_4 = Dense(units=32,  activation='relu',    name='layer4', kernel_regularizer=L2(0.0001))\n",
    "layer_5 = Dense(units=1,   activation='linear',  name='output', kernel_regularizer=L2(0.0001)) \n",
    "\n",
    "# applied to achieve consistent results\n",
    "tf.random.set_seed(1234)  \n",
    "\n",
    "model = Sequential([\n",
    "    tf.keras.Input(shape=(X_train.shape[1],)),\n",
    "    layer_1, \n",
    "    layer_2,\n",
    "    layer_3,\n",
    "    layer_4,\n",
    "    layer_5\n",
    "])\n",
    "\n",
    "model.compile(\n",
    "    optimizer=tf.keras.optimizers.Adam(learning_rate=0.00001),\n",
    "    loss=BinaryCrossentropy(from_logits=True),\n",
    "    metrics=['accuracy'] \n",
    ")\n",
    "\n",
    "model.fit(X_train, Y_train, epochs=1000, callbacks=[verbose_callback], verbose=0)"
   ]
  },
  {
   "cell_type": "markdown",
   "id": "1ef742bd-9f22-4243-a3db-c7c897bb34aa",
   "metadata": {},
   "source": [
    "# Use model to predict"
   ]
  },
  {
   "cell_type": "code",
   "execution_count": 24,
   "id": "768fecbd-a0c0-4893-94e3-0cb27aabb610",
   "metadata": {
    "tags": []
   },
   "outputs": [
    {
     "name": "stdout",
     "output_type": "stream",
     "text": [
      "186/186 [==============================] - 0s 598us/step\n",
      "47/47 [==============================] - 0s 590us/step\n"
     ]
    }
   ],
   "source": [
    "# Inference - use model to predict\n",
    "result_train = np.where(tf.nn.sigmoid(model.predict(X_train)) > 0.5, 1, 0)\n",
    "result_cv    = np.where(tf.nn.sigmoid(model.predict(X_cv)) > 0.5, 1, 0)"
   ]
  },
  {
   "cell_type": "code",
   "execution_count": 25,
   "id": "e6883404-3cc9-48ab-bf41-d836c8bb537e",
   "metadata": {
    "tags": []
   },
   "outputs": [],
   "source": [
    "r_train = np.concatenate((result_train, Y_train), axis=1)\n",
    "r_cv    = np.concatenate((result_cv, Y_cv), axis=1)"
   ]
  },
  {
   "cell_type": "code",
   "execution_count": 26,
   "id": "fa2a19c3-708a-47af-91a2-9070e5320a48",
   "metadata": {
    "tags": []
   },
   "outputs": [],
   "source": [
    "diff_train = r_train[:, 1] - r_train[:, 0]\n",
    "diff_cv    = r_cv[:, 1] - r_cv[:, 0]\n",
    "\n",
    "# count the number of zeros\n",
    "J_train = 100 - (np.count_nonzero(diff_train == 0) / r_train.shape[0]) * 100\n",
    "J_cv    = 100 - (np.count_nonzero(diff_cv == 0) / r_cv.shape[0]) * 100"
   ]
  },
  {
   "cell_type": "code",
   "execution_count": 27,
   "id": "cf969695-3666-4b1e-b0b4-a26cb146ced9",
   "metadata": {
    "tags": []
   },
   "outputs": [
    {
     "name": "stdout",
     "output_type": "stream",
     "text": [
      "18.313172043010752 19.140362659503012\n"
     ]
    }
   ],
   "source": [
    "print(J_train, J_cv)"
   ]
  },
  {
   "cell_type": "markdown",
   "id": "ff8fcb16-ca9f-4256-a0a8-265e8801b512",
   "metadata": {},
   "source": [
    "# Create output file with Test Data predictions"
   ]
  },
  {
   "cell_type": "code",
   "execution_count": 42,
   "id": "f320ad9f-3bcc-4c96-bd81-60b44e4fd898",
   "metadata": {},
   "outputs": [
    {
     "data": {
      "text/html": [
       "<div>\n",
       "<style scoped>\n",
       "    .dataframe tbody tr th:only-of-type {\n",
       "        vertical-align: middle;\n",
       "    }\n",
       "\n",
       "    .dataframe tbody tr th {\n",
       "        vertical-align: top;\n",
       "    }\n",
       "\n",
       "    .dataframe thead th {\n",
       "        text-align: right;\n",
       "    }\n",
       "</style>\n",
       "<table border=\"1\" class=\"dataframe\">\n",
       "  <thead>\n",
       "    <tr style=\"text-align: right;\">\n",
       "      <th></th>\n",
       "      <th>PassengerId</th>\n",
       "      <th>Age</th>\n",
       "      <th>RoomService</th>\n",
       "      <th>FoodCourt</th>\n",
       "      <th>ShoppingMall</th>\n",
       "      <th>Spa</th>\n",
       "      <th>VRDeck</th>\n",
       "      <th>HomePlanet__Earth</th>\n",
       "      <th>HomePlanet__Europa</th>\n",
       "      <th>HomePlanet__Mars</th>\n",
       "      <th>...</th>\n",
       "      <th>sum-2</th>\n",
       "      <th>sum-3</th>\n",
       "      <th>sum-4</th>\n",
       "      <th>sum-5</th>\n",
       "      <th>sum-6</th>\n",
       "      <th>sum-7</th>\n",
       "      <th>sum-8</th>\n",
       "      <th>sum-9</th>\n",
       "      <th>sum-10</th>\n",
       "      <th>sum-11</th>\n",
       "    </tr>\n",
       "  </thead>\n",
       "  <tbody>\n",
       "    <tr>\n",
       "      <th>0</th>\n",
       "      <td>0013_01</td>\n",
       "      <td>27.0</td>\n",
       "      <td>0.0</td>\n",
       "      <td>0.0</td>\n",
       "      <td>0.0</td>\n",
       "      <td>0.0</td>\n",
       "      <td>0.0</td>\n",
       "      <td>1</td>\n",
       "      <td>0</td>\n",
       "      <td>0</td>\n",
       "      <td>...</td>\n",
       "      <td>0.0</td>\n",
       "      <td>0.0</td>\n",
       "      <td>0.0</td>\n",
       "      <td>0.0</td>\n",
       "      <td>0.0</td>\n",
       "      <td>0.0</td>\n",
       "      <td>0.0</td>\n",
       "      <td>0.0</td>\n",
       "      <td>0.0</td>\n",
       "      <td>0.0</td>\n",
       "    </tr>\n",
       "    <tr>\n",
       "      <th>1</th>\n",
       "      <td>0018_01</td>\n",
       "      <td>19.0</td>\n",
       "      <td>0.0</td>\n",
       "      <td>9.0</td>\n",
       "      <td>0.0</td>\n",
       "      <td>2823.0</td>\n",
       "      <td>0.0</td>\n",
       "      <td>1</td>\n",
       "      <td>0</td>\n",
       "      <td>0</td>\n",
       "      <td>...</td>\n",
       "      <td>0.0</td>\n",
       "      <td>9.0</td>\n",
       "      <td>0.0</td>\n",
       "      <td>2823.0</td>\n",
       "      <td>2832.0</td>\n",
       "      <td>2823.0</td>\n",
       "      <td>9.0</td>\n",
       "      <td>0.0</td>\n",
       "      <td>9.0</td>\n",
       "      <td>2832.0</td>\n",
       "    </tr>\n",
       "    <tr>\n",
       "      <th>2</th>\n",
       "      <td>0019_01</td>\n",
       "      <td>31.0</td>\n",
       "      <td>0.0</td>\n",
       "      <td>0.0</td>\n",
       "      <td>0.0</td>\n",
       "      <td>0.0</td>\n",
       "      <td>0.0</td>\n",
       "      <td>0</td>\n",
       "      <td>1</td>\n",
       "      <td>0</td>\n",
       "      <td>...</td>\n",
       "      <td>0.0</td>\n",
       "      <td>0.0</td>\n",
       "      <td>0.0</td>\n",
       "      <td>0.0</td>\n",
       "      <td>0.0</td>\n",
       "      <td>0.0</td>\n",
       "      <td>0.0</td>\n",
       "      <td>0.0</td>\n",
       "      <td>0.0</td>\n",
       "      <td>0.0</td>\n",
       "    </tr>\n",
       "    <tr>\n",
       "      <th>3</th>\n",
       "      <td>0021_01</td>\n",
       "      <td>38.0</td>\n",
       "      <td>0.0</td>\n",
       "      <td>6652.0</td>\n",
       "      <td>0.0</td>\n",
       "      <td>181.0</td>\n",
       "      <td>585.0</td>\n",
       "      <td>0</td>\n",
       "      <td>1</td>\n",
       "      <td>0</td>\n",
       "      <td>...</td>\n",
       "      <td>585.0</td>\n",
       "      <td>7237.0</td>\n",
       "      <td>585.0</td>\n",
       "      <td>181.0</td>\n",
       "      <td>6833.0</td>\n",
       "      <td>181.0</td>\n",
       "      <td>6652.0</td>\n",
       "      <td>0.0</td>\n",
       "      <td>6652.0</td>\n",
       "      <td>7418.0</td>\n",
       "    </tr>\n",
       "    <tr>\n",
       "      <th>4</th>\n",
       "      <td>0023_01</td>\n",
       "      <td>20.0</td>\n",
       "      <td>10.0</td>\n",
       "      <td>0.0</td>\n",
       "      <td>635.0</td>\n",
       "      <td>0.0</td>\n",
       "      <td>0.0</td>\n",
       "      <td>1</td>\n",
       "      <td>0</td>\n",
       "      <td>0</td>\n",
       "      <td>...</td>\n",
       "      <td>635.0</td>\n",
       "      <td>0.0</td>\n",
       "      <td>10.0</td>\n",
       "      <td>635.0</td>\n",
       "      <td>0.0</td>\n",
       "      <td>10.0</td>\n",
       "      <td>635.0</td>\n",
       "      <td>645.0</td>\n",
       "      <td>10.0</td>\n",
       "      <td>645.0</td>\n",
       "    </tr>\n",
       "  </tbody>\n",
       "</table>\n",
       "<p>5 rows × 59 columns</p>\n",
       "</div>"
      ],
      "text/plain": [
       "  PassengerId   Age  RoomService  FoodCourt  ShoppingMall     Spa  VRDeck  \\\n",
       "0     0013_01  27.0          0.0        0.0           0.0     0.0     0.0   \n",
       "1     0018_01  19.0          0.0        9.0           0.0  2823.0     0.0   \n",
       "2     0019_01  31.0          0.0        0.0           0.0     0.0     0.0   \n",
       "3     0021_01  38.0          0.0     6652.0           0.0   181.0   585.0   \n",
       "4     0023_01  20.0         10.0        0.0         635.0     0.0     0.0   \n",
       "\n",
       "   HomePlanet__Earth  HomePlanet__Europa  HomePlanet__Mars  ...  sum-2  \\\n",
       "0                  1                   0                 0  ...    0.0   \n",
       "1                  1                   0                 0  ...    0.0   \n",
       "2                  0                   1                 0  ...    0.0   \n",
       "3                  0                   1                 0  ...  585.0   \n",
       "4                  1                   0                 0  ...  635.0   \n",
       "\n",
       "    sum-3  sum-4   sum-5   sum-6   sum-7   sum-8  sum-9  sum-10  sum-11  \n",
       "0     0.0    0.0     0.0     0.0     0.0     0.0    0.0     0.0     0.0  \n",
       "1     9.0    0.0  2823.0  2832.0  2823.0     9.0    0.0     9.0  2832.0  \n",
       "2     0.0    0.0     0.0     0.0     0.0     0.0    0.0     0.0     0.0  \n",
       "3  7237.0  585.0   181.0  6833.0   181.0  6652.0    0.0  6652.0  7418.0  \n",
       "4     0.0   10.0   635.0     0.0    10.0   635.0  645.0    10.0   645.0  \n",
       "\n",
       "[5 rows x 59 columns]"
      ]
     },
     "execution_count": 42,
     "metadata": {},
     "output_type": "execute_result"
    }
   ],
   "source": [
    "df_test = pd.read_csv(\"../data/test.csv\")\n",
    "df_test = transform_data(df_test, test_data=True)\n",
    "df.head()"
   ]
  },
  {
   "cell_type": "code",
   "execution_count": 49,
   "id": "dba20d36-b2a9-408b-9189-5ea4a0eff305",
   "metadata": {
    "tags": []
   },
   "outputs": [
    {
     "name": "stdout",
     "output_type": "stream",
     "text": [
      "114/114 [==============================] - 0s 579us/step\n"
     ]
    }
   ],
   "source": [
    "df_no_passenger_id_test = df_test.drop('PassengerId', axis=1)\n",
    "df_new_test = normalize_data(df_no_passenger_id_test)\n",
    "X_test = df_new_test.to_numpy()\n",
    "result_test = np.where(tf.nn.sigmoid(model.predict(X_test)) > 0.5, 1, 0)\n",
    "results_for_submission = np.concatenate((df_test['PassengerId'].to_numpy().reshape(-1, 1), np.where(result_test == 1, True, False)), axis=1)"
   ]
  },
  {
   "cell_type": "code",
   "execution_count": 50,
   "id": "8e1cf5a1-83e4-43ba-90fa-996e741172c1",
   "metadata": {
    "tags": []
   },
   "outputs": [],
   "source": [
    "df = pd.DataFrame(results_for_submission, columns=['PassengerId', 'Transported'])"
   ]
  },
  {
   "cell_type": "code",
   "execution_count": 51,
   "id": "1ff5a13b-fade-4a46-bfb6-d013e31c971d",
   "metadata": {
    "tags": []
   },
   "outputs": [],
   "source": [
    "df.to_csv(\"../data/submission.csv\", index=False)"
   ]
  }
 ],
 "metadata": {
  "kernelspec": {
   "display_name": "Python 3 (ipykernel)",
   "language": "python",
   "name": "python3"
  },
  "language_info": {
   "codemirror_mode": {
    "name": "ipython",
    "version": 3
   },
   "file_extension": ".py",
   "mimetype": "text/x-python",
   "name": "python",
   "nbconvert_exporter": "python",
   "pygments_lexer": "ipython3",
   "version": "3.11.4"
  }
 },
 "nbformat": 4,
 "nbformat_minor": 5
}
